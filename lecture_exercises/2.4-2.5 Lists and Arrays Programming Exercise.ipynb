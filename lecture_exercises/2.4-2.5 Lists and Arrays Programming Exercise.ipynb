{
 "cells": [
  {
   "cell_type": "markdown",
   "metadata": {},
   "source": [
    "## Hydrogen Spectrum"
   ]
  },
  {
   "cell_type": "code",
   "execution_count": 6,
   "metadata": {
    "scrolled": false
   },
   "outputs": [
    {
     "name": "stdout",
     "output_type": "stream",
     "text": [
      "\n",
      "n = 1\n",
      "m = 2, wavelength =  121.544 nm\n",
      "m = 3, wavelength =  102.552 nm\n",
      "m = 4, wavelength =   97.235 nm\n",
      "m = 5, wavelength =   94.956 nm\n",
      "m = 6, wavelength =   93.762 nm\n",
      "m = 7, wavelength =   93.057 nm\n",
      "\n",
      "n = 2\n",
      "m = 3, wavelength =  656.335 nm\n",
      "m = 4, wavelength =  486.174 nm\n",
      "m = 5, wavelength =  434.084 nm\n",
      "m = 6, wavelength =  410.210 nm\n",
      "m = 7, wavelength =  397.042 nm\n",
      "m = 8, wavelength =  388.940 nm\n",
      "\n",
      "n = 3\n",
      "m = 4, wavelength = 1875.244 nm\n",
      "m = 5, wavelength = 1281.905 nm\n",
      "m = 6, wavelength = 1093.892 nm\n",
      "m = 7, wavelength = 1005.014 nm\n",
      "m = 8, wavelength =  954.670 nm\n",
      "m = 9, wavelength =  922.972 nm\n",
      "\n",
      "Average visible wavelength = 476.769 nm\n",
      "Maximum wavelength = 1875.244 nm\n",
      "\n",
      "Frequencies of visible wavelengths (Hz):\n",
      " [4.57083333e+14 6.17062500e+14 6.91110000e+14 7.31333333e+14\n",
      " 7.55586735e+14]\n",
      "\n",
      "Energies of visible wavelengths (J):\n",
      " [3.03503333e-19 4.09729500e-19 4.58897040e-19 4.85605333e-19\n",
      " 5.01709592e-19]\n"
     ]
    }
   ],
   "source": [
    "# robertjo@physics.upenn.edu\n",
    "\n",
    "from numpy import array\n",
    "\n",
    "R = 1.097E7      # Rydberg constant in m**-1\n",
    "h = 6.64E-34     # Planck's constant in J s\n",
    "visibleList = [] # empty list of visible wavelengths\n",
    "lambdamax = 0    # maximum wavelength\n",
    "\n",
    "for n in [1, 2, 3]:\n",
    "    \n",
    "    print(\"\\nn =\", n)\n",
    "    \n",
    "    for m in range(n+1, n+7):\n",
    "        \n",
    "        wavelength = 1/(R*(1/n**2 - 1/m**2))  # calculate wavelength\n",
    "        \n",
    "        print(\"m = {:d}, wavelength = {:>8.3f} nm\".format(m,wavelength/1e-9))\n",
    "\n",
    "        # determine max wavelength\n",
    "        if wavelength > lambdamax:\n",
    "            lambdamax = wavelength\n",
    "        \n",
    "        # if wavelength within visible spectrum, store it in a list\n",
    "        if wavelength >= 390e-9 and wavelength <= 700e-9:\n",
    "            visibleList.append(wavelength)\n",
    "\n",
    "print(\"\\nAverage visible wavelength = {:.3f} nm\".format(sum(visibleList)/len(visibleList)/1e-9))\n",
    "print(\"Maximum wavelength = {:.3f} nm\".format(lambdamax/1e-9))\n",
    "\n",
    "frequency = 3E8/array(visibleList)\n",
    "energy = h*frequency\n",
    "print(\"\\nFrequencies of visible wavelengths (Hz):\\n\", frequency)\n",
    "print(\"\\nEnergies of visible wavelengths (J):\\n\", energy)\n",
    "        "
   ]
  },
  {
   "cell_type": "code",
   "execution_count": 4,
   "metadata": {},
   "outputs": [
    {
     "name": "stdout",
     "output_type": "stream",
     "text": [
      "n = 1\n",
      "    m = 2 --> wavelength = 121.544[nm]\n",
      "    m = 3 --> wavelength = 102.552[nm]\n",
      "    m = 4 --> wavelength = 97.235[nm]\n",
      "    m = 5 --> wavelength = 94.956[nm]\n",
      "    m = 6 --> wavelength = 93.762[nm]\n",
      "    m = 7 --> wavelength = 93.057[nm]\n",
      "\n",
      "\n",
      "n = 2\n",
      "    m = 3 --> wavelength = 656.335[nm]\n",
      "    m = 4 --> wavelength = 486.174[nm]\n",
      "    m = 5 --> wavelength = 434.084[nm]\n",
      "    m = 6 --> wavelength = 410.21[nm]\n",
      "    m = 7 --> wavelength = 397.042[nm]\n",
      "    m = 8 --> wavelength = 388.94[nm]\n",
      "\n",
      "\n",
      "n = 3\n",
      "    m = 4 --> wavelength = 1875.244[nm]\n",
      "    m = 5 --> wavelength = 1281.905[nm]\n",
      "    m = 6 --> wavelength = 1093.892[nm]\n",
      "    m = 7 --> wavelength = 1005.014[nm]\n",
      "    m = 8 --> wavelength = 954.67[nm]\n",
      "    m = 9 --> wavelength = 922.972[nm]\n",
      "\n",
      "\n"
     ]
    }
   ],
   "source": [
    "# AK\n",
    "R = 1.097*10**7 #[m]\n",
    "for n in range (1, 4):\n",
    "    print(f\"n = {n}\")\n",
    "    for m in range(n+1, n+7):\n",
    "        lam = (R*(1/n**2 - 1/m**2))**(-1)   # [m]\n",
    "        lam = lam * 10**9\n",
    "        print(f\"    m = {m} --> wavelength = {round(lam, 3)}[nm]\")\n",
    "    print(\"\\n\")"
   ]
  },
  {
   "cell_type": "code",
   "execution_count": 7,
   "metadata": {},
   "outputs": [
    {
     "name": "stdout",
     "output_type": "stream",
     "text": [
      "Average wavelength: 476.769[nm]\n"
     ]
    }
   ],
   "source": [
    "# AK\n",
    "visibleList = []\n",
    "\n",
    "R = 1.097*10**7 #[m]\n",
    "\n",
    "for n in range (1, 4):\n",
    "    for m in range(n+1, n+7):\n",
    "        lam = (R*(1/n**2 - 1/m**2))**(-1)   # [m]\n",
    "        lam = lam * 10**9\n",
    "        if lam>390 and lam<790:\n",
    "            visibleList.append(lam)\n",
    "\n",
    "avglam = sum(visibleList) / len(visibleList)\n",
    "print(f\"Average wavelength: {round(avglam,3)}[nm]\")"
   ]
  },
  {
   "cell_type": "markdown",
   "metadata": {},
   "source": [
    "## Bubble Sort"
   ]
  },
  {
   "cell_type": "code",
   "execution_count": 4,
   "metadata": {},
   "outputs": [
    {
     "name": "stdout",
     "output_type": "stream",
     "text": [
      "[1, 2, 4, 5, 8]\n"
     ]
    }
   ],
   "source": [
    "numbers = [5, 1, 4, 2, 8]   # list to be sorted\n",
    "N = len(numbers)            # number of elements to be sorted\n",
    "\n",
    "# At most, the algorithm needs N-1 passes to sort the list\n",
    "for numpass in range(N):\n",
    "\n",
    "    # After each pass the last index compared in the list will be in its correct\n",
    "    # position. Therefore, only indices up to numpass need to be considered\n",
    "    for i in range(N - (numpass + 1)):\n",
    "        \n",
    "        # swap numbers if subsequent number is smaller than current\n",
    "        if numbers[i+1] < numbers[i]:\n",
    "            numbers[i], numbers[i+1] = numbers[i+1], numbers[i] # swap\n",
    "    \n",
    "# print sorted list\n",
    "print(numbers)"
   ]
  }
 ],
 "metadata": {
  "kernelspec": {
   "display_name": "Python 3",
   "language": "python",
   "name": "python3"
  },
  "language_info": {
   "codemirror_mode": {
    "name": "ipython",
    "version": 3
   },
   "file_extension": ".py",
   "mimetype": "text/x-python",
   "name": "python",
   "nbconvert_exporter": "python",
   "pygments_lexer": "ipython3",
   "version": "3.12.7"
  },
  "varInspector": {
   "cols": {
    "lenName": 16,
    "lenType": 16,
    "lenVar": 40
   },
   "kernels_config": {
    "python": {
     "delete_cmd_postfix": "",
     "delete_cmd_prefix": "del ",
     "library": "var_list.py",
     "varRefreshCmd": "print(var_dic_list())"
    },
    "r": {
     "delete_cmd_postfix": ") ",
     "delete_cmd_prefix": "rm(",
     "library": "var_list.r",
     "varRefreshCmd": "cat(var_dic_list()) "
    }
   },
   "types_to_exclude": [
    "module",
    "function",
    "builtin_function_or_method",
    "instance",
    "_Feature"
   ],
   "window_display": false
  }
 },
 "nbformat": 4,
 "nbformat_minor": 2
}
