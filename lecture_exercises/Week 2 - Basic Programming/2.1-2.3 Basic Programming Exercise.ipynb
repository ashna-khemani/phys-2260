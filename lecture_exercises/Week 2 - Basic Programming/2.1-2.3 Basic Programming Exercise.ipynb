{
 "cells": [
  {
   "cell_type": "code",
   "execution_count": 2,
   "metadata": {},
   "outputs": [
    {
     "name": "stdout",
     "output_type": "stream",
     "text": [
      "Enter the orbital period of the satellite in hours:2\n",
      "Altitude of satellite = 1685290.9162812866 meters\n"
     ]
    }
   ],
   "source": [
    "# This program takes as input the orbital period of a satellite orbiting the Earth\n",
    "# and calculates the height of the satellite above Earth's surface.\n",
    "\n",
    "from numpy import pi\n",
    "\n",
    "# Constants\n",
    "G = 6.67e-11  # Gravitational constant in SI units\n",
    "M = 5.97e24   # Mass of Earth in kg\n",
    "R = 6.371e6   # Radius of Earth in meters\n",
    "\n",
    "# User inputs a value for the period\n",
    "T = 3600*float(input(\"Enter the orbital period of the satellite in hours:\"))  # orbital period in seconds\n",
    "\n",
    "h = (G*M*T**2/(4*pi**2))**(1/3) - R # height of satellite above Earth's surface\n",
    "\n",
    "if h < 0:\n",
    "    print(\"This is not a possible orbit\")\n",
    "else:\n",
    "    print(\"Altitude of satellite =\", h, \"meters\")\n"
   ]
  },
  {
   "cell_type": "code",
   "execution_count": 2,
   "metadata": {},
   "outputs": [
    {
     "name": "stdout",
     "output_type": "stream",
     "text": [
      "Period =  1 hours | This is not a possible orbit\n",
      "Period =  2 hours | Altitude of satellite = 1685290.9162812866 meters\n",
      "Period =  3 hours | Altitude of satellite = 4185727.544043744 meters\n",
      "Period =  4 hours | Altitude of satellite = 6417564.675466765 meters\n",
      "Period =  5 hours | Altitude of satellite = 8468814.748895342 meters\n",
      "Period =  6 hours | Altitude of satellite = 10386760.408756707 meters\n",
      "Period =  7 hours | Altitude of satellite = 12200508.009902019 meters\n",
      "Period =  8 hours | Altitude of satellite = 13929581.018999297 meters\n",
      "Period =  9 hours | Altitude of satellite = 15587878.18873185 meters\n",
      "Period =  10 hours | Altitude of satellite = 17185737.543409664 meters\n",
      "Period =  11 hours | Altitude of satellite = 18731112.217181336 meters\n",
      "Period =  12 hours | Altitude of satellite = 20230286.50149144 meters\n",
      "Period =  13 hours | Altitude of satellite = 21688335.26022267 meters\n",
      "Period =  14 hours | Altitude of satellite = 23109431.351554308 meters\n",
      "Period =  15 hours | Altitude of satellite = 24497058.596264254 meters\n",
      "Period =  16 hours | Altitude of satellite = 25854163.665125143 meters\n",
      "Period =  17 hours | Altitude of satellite = 27183267.11885741 meters\n",
      "Period =  18 hours | Altitude of satellite = 28486546.33683449 meters\n",
      "Period =  19 hours | Altitude of satellite = 29765898.61360699 meters\n",
      "Period =  20 hours | Altitude of satellite = 31022989.95734728 meters\n",
      "Period =  21 hours | Altitude of satellite = 32259293.381076053 meters\n",
      "Period =  22 hours | Altitude of satellite = 33476119.34017744 meters\n",
      "Period =  23 hours | Altitude of satellite = 34674640.20970437 meters\n",
      "Period =  24 hours | Altitude of satellite = 35855910.176174976 meters\n"
     ]
    }
   ],
   "source": [
    "# This program takes as input the orbital period of a satellite orbiting the Earth\n",
    "# and calculates the height of the satellite above Earth's surface.\n",
    "\n",
    "from numpy import pi\n",
    "\n",
    "# Constants\n",
    "G = 6.67e-11  # Gravitational constant in SI units\n",
    "M = 5.97e24   # Mass of Earth in kg\n",
    "R = 6.371e6   # Radius of Earth in meters\n",
    "\n",
    "for Thours in range(1, 25):\n",
    "    \n",
    "    T = 3600*Thours                     # orbital period in seconds\n",
    "    h = (G*M*T**2/(4*pi**2))**(1/3) - R # height of satellite above Earth's surface\n",
    "    \n",
    "    if h < 0:\n",
    "        print(\"Period = \", Thours, \"hours | This is not a possible orbit\")\n",
    "    else:\n",
    "        print(\"Period = \", Thours, \"hours | Altitude of satellite =\", h, \"meters\")\n",
    "        "
   ]
  },
  {
   "cell_type": "code",
   "execution_count": 7,
   "metadata": {},
   "outputs": [
    {
     "name": "stdout",
     "output_type": "stream",
     "text": [
      "Period =  1 hours | This is not a possible orbit\n",
      "Period =  2 hours | Altitude of satellite = 1.685e+06 meters\n",
      "Period =  3 hours | Altitude of satellite = 4.186e+06 meters\n",
      "Period =  4 hours | Altitude of satellite = 6.418e+06 meters\n",
      "Period =  5 hours | Altitude of satellite = 8.469e+06 meters\n",
      "Period =  6 hours | Altitude of satellite = 1.039e+07 meters\n",
      "Period =  7 hours | Altitude of satellite = 1.220e+07 meters\n",
      "Period =  8 hours | Altitude of satellite = 1.393e+07 meters\n",
      "Period =  9 hours | Altitude of satellite = 1.559e+07 meters\n",
      "Period = 10 hours | Altitude of satellite = 1.719e+07 meters\n",
      "Period = 11 hours | Altitude of satellite = 1.873e+07 meters\n",
      "Period = 12 hours | Altitude of satellite = 2.023e+07 meters\n",
      "Period = 13 hours | Altitude of satellite = 2.169e+07 meters\n",
      "Period = 14 hours | Altitude of satellite = 2.311e+07 meters\n",
      "Period = 15 hours | Altitude of satellite = 2.450e+07 meters\n",
      "Period = 16 hours | Altitude of satellite = 2.585e+07 meters\n",
      "Period = 17 hours | Altitude of satellite = 2.718e+07 meters\n",
      "Period = 18 hours | Altitude of satellite = 2.849e+07 meters\n",
      "Period = 19 hours | Altitude of satellite = 2.977e+07 meters\n",
      "Period = 20 hours | Altitude of satellite = 3.102e+07 meters\n",
      "Period = 21 hours | Altitude of satellite = 3.226e+07 meters\n",
      "Period = 22 hours | Altitude of satellite = 3.348e+07 meters\n",
      "Period = 23 hours | Altitude of satellite = 3.467e+07 meters\n",
      "Period = 24 hours | Altitude of satellite = 3.586e+07 meters\n"
     ]
    }
   ],
   "source": [
    "# This program takes as input the orbital period of a satellite orbiting the Earth\n",
    "# and calculates the height of the satellite above Earth's surface.\n",
    "\n",
    "from numpy import pi\n",
    "\n",
    "# Constants\n",
    "G = 6.67e-11  # Gravitational constant in SI units\n",
    "M = 5.97e24   # Mass of Earth in kg\n",
    "R = 6.371e6   # Radius of Earth in meters\n",
    "\n",
    "for Thours in range(1, 25):\n",
    "    \n",
    "    T = 3600*Thours                     # orbital period in seconds\n",
    "    h = (G*M*T**2/(4*pi**2))**(1/3) - R # height of satellite above Earth's surface\n",
    "    \n",
    "    if h < 0:\n",
    "        print(\"Period = {:>2d} hours | This is not a possible orbit\".format(Thours))\n",
    "    else:\n",
    "        print(\"Period = {:>2d} hours | Altitude of satellite = {:.3e} meters\".format(Thours, h))\n",
    "        "
   ]
  },
  {
   "cell_type": "code",
   "execution_count": null,
   "metadata": {},
   "outputs": [],
   "source": []
  }
 ],
 "metadata": {
  "kernelspec": {
   "display_name": "Python 3 (ipykernel)",
   "language": "python",
   "name": "python3"
  },
  "language_info": {
   "codemirror_mode": {
    "name": "ipython",
    "version": 3
   },
   "file_extension": ".py",
   "mimetype": "text/x-python",
   "name": "python",
   "nbconvert_exporter": "python",
   "pygments_lexer": "ipython3",
   "version": "3.9.7"
  },
  "varInspector": {
   "cols": {
    "lenName": 16,
    "lenType": 16,
    "lenVar": 40
   },
   "kernels_config": {
    "python": {
     "delete_cmd_postfix": "",
     "delete_cmd_prefix": "del ",
     "library": "var_list.py",
     "varRefreshCmd": "print(var_dic_list())"
    },
    "r": {
     "delete_cmd_postfix": ") ",
     "delete_cmd_prefix": "rm(",
     "library": "var_list.r",
     "varRefreshCmd": "cat(var_dic_list()) "
    }
   },
   "types_to_exclude": [
    "module",
    "function",
    "builtin_function_or_method",
    "instance",
    "_Feature"
   ],
   "window_display": false
  }
 },
 "nbformat": 4,
 "nbformat_minor": 2
}
