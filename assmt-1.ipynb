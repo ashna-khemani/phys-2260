{
 "cells": [
  {
   "cell_type": "markdown",
   "metadata": {},
   "source": [
    "# Programming Assignment 1\n",
    "Due Wed 2/5/25"
   ]
  },
  {
   "cell_type": "markdown",
   "metadata": {},
   "source": [
    "## Problem 1: Finding Prime Numbers"
   ]
  },
  {
   "cell_type": "markdown",
   "metadata": {},
   "source": [
    "### Method 1"
   ]
  },
  {
   "cell_type": "code",
   "execution_count": 4,
   "metadata": {},
   "outputs": [
    {
     "name": "stdout",
     "output_type": "stream",
     "text": [
      "Runtime: 198.8 s\n"
     ]
    }
   ],
   "source": [
    "import time\n",
    "\n",
    "t0 = time.time()\n",
    "\n",
    "primes = [2]\n",
    "for i in range(3, 100001):\n",
    "    isPrime = True\n",
    "    for f in range(2, i):\n",
    "        if (i%f == 0):\n",
    "            isPrime = False\n",
    "    if isPrime:\n",
    "        primes.append(i)\n",
    "\n",
    "tf = time.time()\n",
    "print(\"Runtime: {:.1f} s\".format(tf-t0))"
   ]
  },
  {
   "cell_type": "markdown",
   "metadata": {},
   "source": [
    "### Method 2\n",
    "* Skip evens greater than 2\n",
    "* Only check divisibility of primes less than ```i```\n",
    "* Only check factors up to $\\sqrt{i}$\n",
    "* Break once you find the first factor"
   ]
  },
  {
   "cell_type": "code",
   "execution_count": 25,
   "metadata": {},
   "outputs": [
    {
     "name": "stdout",
     "output_type": "stream",
     "text": [
      "Runtime: 0.1 s\n"
     ]
    }
   ],
   "source": [
    "import math\n",
    "import time\n",
    "\n",
    "t0 = time.time()\n",
    "\n",
    "primes2 = [2]\n",
    "for i in range(3, 100001):\n",
    "    isPrime = True\n",
    "    # Skip this i if even\n",
    "    if (i%2 == 0):\n",
    "        continue\n",
    "\n",
    "    \n",
    "    # Check i's divisibility by primes less than it (contents of primes2), up to sqrt(i)\n",
    "    for p in primes2:\n",
    "        if (p > math.sqrt(i)):\n",
    "            break\n",
    "        if (i%p == 0):\n",
    "            isPrime = False\n",
    "            break\n",
    "    \n",
    "    # Add to list\n",
    "    if isPrime:\n",
    "        primes2.append(i)\n",
    "\n",
    "tf = time.time()\n",
    "print(\"Runtime: {:.1f} s\".format(tf-t0))"
   ]
  },
  {
   "cell_type": "markdown",
   "metadata": {},
   "source": [
    "Method 1 takes ~10^4 times longer to run."
   ]
  },
  {
   "cell_type": "markdown",
   "metadata": {},
   "source": [
    "## Problem 2: Nuclear Binding Energy"
   ]
  },
  {
   "cell_type": "markdown",
   "metadata": {},
   "source": [
    "### Part A"
   ]
  },
  {
   "cell_type": "code",
   "execution_count": 16,
   "metadata": {},
   "outputs": [
    {
     "name": "stdout",
     "output_type": "stream",
     "text": [
      "A=58, Z=28\n",
      "B=497.5620206224374\n"
     ]
    }
   ],
   "source": [
    "A = int(input(\"Enter A: \"))\n",
    "Z = int(input(\"Enter Z: \"))\n",
    "print(f\"A={A}, Z={Z}\")\n",
    "\n",
    "a1, a2, a3, a4 = 15.8, 18.3, 0.714, 23.2\n",
    "if A%2!=0:\n",
    "    a5 = 0\n",
    "elif A%2==0 and Z%2==0:\n",
    "    a5 = 12\n",
    "else:\n",
    "    a5 = -12\n",
    "\n",
    "B = a1*A - a2*A**(2/3) - a3*Z**2 / A**(1/3) - a4*(A-2*Z)**2 / A + a5 / A**(1/2)\n",
    "\n",
    "print(f\"B={B}\")"
   ]
  },
  {
   "cell_type": "markdown",
   "metadata": {},
   "source": [
    "### Part B"
   ]
  },
  {
   "cell_type": "code",
   "execution_count": 7,
   "metadata": {},
   "outputs": [
    {
     "name": "stdout",
     "output_type": "stream",
     "text": [
      "Binding energy per nucleon: 8.578655527973059\n"
     ]
    }
   ],
   "source": [
    "print(f\"Binding energy per nucleon: \" + str(B/A))"
   ]
  },
  {
   "cell_type": "markdown",
   "metadata": {},
   "source": [
    "### Part C"
   ]
  },
  {
   "cell_type": "code",
   "execution_count": 22,
   "metadata": {},
   "outputs": [
    {
     "name": "stdout",
     "output_type": "stream",
     "text": [
      "Z=26\n",
      "Max binding energy per nucleon (Bper): 8.701432576808985    Mass (A): 58\n"
     ]
    }
   ],
   "source": [
    "Z = int(input(\"Enter Z: \"))\n",
    "print(f\"Z={Z}\")\n",
    "\n",
    "a1, a2, a3, a4 = 15.8, 18.3, 0.714, 23.2\n",
    "\n",
    "Bper_max = 0\n",
    "Aper_max = 0\n",
    "for A in range(Z, 3*Z+1):\n",
    "    # Need to recalc a5\n",
    "    if A%2!=0:\n",
    "        a5 = 0\n",
    "    elif A%2==0 and Z%2==0:\n",
    "        a5 = 12\n",
    "    else:\n",
    "        a5 = -12\n",
    "    # Calculate binding energy B\n",
    "    B = a1*A - a2*A**(2/3) - a3*Z**2 / A**(1/3) - a4*(A-2*Z)**2 / A + a5 / A**(1/2)\n",
    "    # ... per nucleon\n",
    "    Bper = B/A\n",
    "\n",
    "    # Store Bper and A if these yielded the highest B\n",
    "    if Bper>Bper_max:\n",
    "        Bper_max = Bper\n",
    "        Aper_max = A\n",
    "\n",
    "print(f\"Max binding energy per nucleon (Bper): {Bper_max}    Mass (A): {Aper_max}\")"
   ]
  },
  {
   "cell_type": "markdown",
   "metadata": {},
   "source": [
    "### Part D"
   ]
  },
  {
   "cell_type": "code",
   "execution_count": 28,
   "metadata": {},
   "outputs": [
    {
     "name": "stdout",
     "output_type": "stream",
     "text": [
      "Most stable Z: 28    Binding energy per nucleon: 8.70245768367189\n"
     ]
    }
   ],
   "source": [
    "a1, a2, a3, a4 = 15.8, 18.3, 0.714, 23.2\n",
    "most_stable_B, most_stable_Z = 0, 0\n",
    "for Z in range(1, 101):\n",
    "    Bper_max = 0\n",
    "    Aper_max = 0\n",
    "    for A in range(Z, 3*Z+1):\n",
    "        # Need to recalc a5\n",
    "        if A%2!=0:\n",
    "            a5 = 0\n",
    "        elif A%2==0 and Z%2==0:\n",
    "            a5 = 12\n",
    "        else:\n",
    "            a5 = -12\n",
    "        # Calculate binding energy B\n",
    "        B = a1*A - a2*A**(2/3) - a3*Z**2 / A**(1/3) - a4*(A-2*Z)**2 / A + a5 / A**(1/2)\n",
    "        # ... per nucleon\n",
    "        Bper = B/A\n",
    "\n",
    "        # Store Bper and A if these yielded the highest B\n",
    "        if Bper>Bper_max:\n",
    "            Bper_max = Bper\n",
    "            Aper_max = A\n",
    "    if Bper_max>most_stable_B:\n",
    "        most_stable_B = Bper_max\n",
    "        most_stable_Z = Z\n",
    "print(f\"Most stable Z: {most_stable_Z}    Binding energy per nucleon: {most_stable_B}\")"
   ]
  },
  {
   "cell_type": "markdown",
   "metadata": {},
   "source": [
    "### Part E"
   ]
  },
  {
   "cell_type": "code",
   "execution_count": 40,
   "metadata": {},
   "outputs": [],
   "source": [
    "# For every element Z,\n",
    "    # find the most stable nucleus (largest Bper)\n",
    "    # store the Bper and A\n",
    "# Graph Bper vs A\n",
    "\n",
    "import matplotlib.pyplot as plt\n",
    "# from importlib import reload\n",
    "# plt=reload(plt)\n",
    "\n",
    "Bper_max_list = []\n",
    "Aper_max_list = []\n",
    "\n",
    "a1, a2, a3, a4 = 15.8, 18.3, 0.714, 23.2\n",
    "for Z in range (1, 100):\n",
    "    Bper_max = 0\n",
    "    Aper_max = 0\n",
    "    for A in range(Z, 3*Z+1):\n",
    "        # Need to recalc a5\n",
    "        if A%2!=0:\n",
    "            a5 = 0\n",
    "        elif A%2==0 and Z%2==0:\n",
    "            a5 = 12\n",
    "        else:\n",
    "            a5 = -12\n",
    "        # Calculate binding energy B\n",
    "        B = a1*A - a2*A**(2/3) - a3*Z**2 / A**(1/3) - a4*(A-2*Z)**2 / A + a5 / A**(1/2)\n",
    "        # ... per nucleon\n",
    "        Bper = B/A\n",
    "\n",
    "        # Update Bper_max and Aper_max if this A yielded the highest Bper\n",
    "        if Bper>Bper_max:\n",
    "            Bper_max = Bper\n",
    "            Aper_max = A\n",
    "    # Store this Z's Bper_max and Aper_max in the lists\n",
    "    Bper_max_list.append(Bper_max)\n",
    "    Aper_max_list.append(Aper_max)\n"
   ]
  },
  {
   "cell_type": "code",
   "execution_count": 41,
   "metadata": {},
   "outputs": [
    {
     "data": {
      "text/plain": [
       "Text(0, 0.5, 'Bper (binding energy per nucleon)')"
      ]
     },
     "execution_count": 41,
     "metadata": {},
     "output_type": "execute_result"
    },
    {
     "data": {
      "image/png": "[encoded data removed]",
      "text/plain": [
       "<Figure size 640x480 with 1 Axes>"
      ]
     },
     "metadata": {},
     "output_type": "display_data"
    }
   ],
   "source": [
    "plt.plot(Aper_max_list, Bper_max_list)\n",
    "plt.xlabel(\"A (mass number)\")\n",
    "plt.ylabel(\"Bper (binding energy per nucleon)\")"
   ]
  },
  {
   "cell_type": "markdown",
   "metadata": {},
   "source": [
    "Elements that **release** energy during **fusion**:     \\\n",
    "Elements that **release** energy during **fission**:    \\\n",
    "More energy released in *fusion of light nuclei* or *fission of heavy nuclei*:  "
   ]
  }
 ],
 "metadata": {
  "kernelspec": {
   "display_name": "Python 3",
   "language": "python",
   "name": "python3"
  },
  "language_info": {
   "codemirror_mode": {
    "name": "ipython",
    "version": 3
   },
   "file_extension": ".py",
   "mimetype": "text/x-python",
   "name": "python",
   "nbconvert_exporter": "python",
   "pygments_lexer": "ipython3",
   "version": "3.12.7"
  }
 },
 "nbformat": 4,
 "nbformat_minor": 2
}
