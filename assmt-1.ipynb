{
 "cells": [
  {
   "cell_type": "markdown",
   "metadata": {},
   "source": [
    "# Programming Assignment 1\n",
    "Due Wed 2/5/25"
   ]
  },
  {
   "cell_type": "markdown",
   "metadata": {},
   "source": [
    "## Problem 1: Finding Prime Numbers"
   ]
  },
  {
   "cell_type": "markdown",
   "metadata": {},
   "source": [
    "### Method 1"
   ]
  },
  {
   "cell_type": "code",
   "execution_count": 4,
   "metadata": {},
   "outputs": [
    {
     "name": "stdout",
     "output_type": "stream",
     "text": [
      "Runtime: 198.8 s\n"
     ]
    }
   ],
   "source": [
    "import time\n",
    "\n",
    "t0 = time.time()\n",
    "\n",
    "primes = [2]\n",
    "for i in range(3, 100001):\n",
    "    isPrime = True\n",
    "    for f in range(2, i):\n",
    "        if (i%f == 0):\n",
    "            isPrime = False\n",
    "    if isPrime:\n",
    "        primes.append(i)\n",
    "\n",
    "tf = time.time()\n",
    "print(\"Runtime: {:.1f} s\".format(tf-t0))"
   ]
  },
  {
   "cell_type": "markdown",
   "metadata": {},
   "source": [
    "### Method 2\n",
    "* Skip evens greater than 2\n",
    "* Only check divisibility of primes less than ```i```\n",
    "* Only check factors up to $\\sqrt{i}$\n",
    "* Break once you find the first factor"
   ]
  },
  {
   "cell_type": "code",
   "execution_count": 25,
   "metadata": {},
   "outputs": [
    {
     "name": "stdout",
     "output_type": "stream",
     "text": [
      "Runtime: 0.1 s\n"
     ]
    }
   ],
   "source": [
    "import math\n",
    "import time\n",
    "\n",
    "t0 = time.time()\n",
    "\n",
    "primes2 = [2]\n",
    "for i in range(3, 100001):\n",
    "    isPrime = True\n",
    "    # Skip this i if even\n",
    "    if (i%2 == 0):\n",
    "        continue\n",
    "\n",
    "    \n",
    "    # Check i's divisibility by primes less than it (contents of primes2), up to sqrt(i)\n",
    "    for p in primes2:\n",
    "        if (p > math.sqrt(i)):\n",
    "            break\n",
    "        if (i%p == 0):\n",
    "            isPrime = False\n",
    "            break\n",
    "    \n",
    "    # Add to list\n",
    "    if isPrime:\n",
    "        primes2.append(i)\n",
    "\n",
    "tf = time.time()\n",
    "print(\"Runtime: {:.1f} s\".format(tf-t0))"
   ]
  },
  {
   "cell_type": "markdown",
   "metadata": {},
   "source": [
    "Method 1 takes ~10^4 times longer to run."
   ]
  }
 ],
 "metadata": {
  "kernelspec": {
   "display_name": "Python 3",
   "language": "python",
   "name": "python3"
  },
  "language_info": {
   "codemirror_mode": {
    "name": "ipython",
    "version": 3
   },
   "file_extension": ".py",
   "mimetype": "text/x-python",
   "name": "python",
   "nbconvert_exporter": "python",
   "pygments_lexer": "ipython3",
   "version": "3.12.7"
  }
 },
 "nbformat": 4,
 "nbformat_minor": 2
}
